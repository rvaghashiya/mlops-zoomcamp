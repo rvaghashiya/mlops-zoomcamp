{
 "cells": [
  {
   "cell_type": "code",
   "execution_count": 1,
   "id": "8afc473d",
   "metadata": {},
   "outputs": [],
   "source": [
    "import pandas as pd"
   ]
  },
  {
   "cell_type": "code",
   "execution_count": 2,
   "id": "3b62dfde",
   "metadata": {},
   "outputs": [],
   "source": [
    "df_jan = pd.read_parquet('https://d37ci6vzurychx.cloudfront.net/trip-data/yellow_tripdata_2023-01.parquet')"
   ]
  },
  {
   "cell_type": "code",
   "execution_count": 3,
   "id": "1ae04eaa",
   "metadata": {},
   "outputs": [],
   "source": [
    "df_feb = pd.read_parquet('https://d37ci6vzurychx.cloudfront.net/trip-data/yellow_tripdata_2023-02.parquet')"
   ]
  },
  {
   "cell_type": "code",
   "execution_count": 4,
   "id": "8a6fde8c",
   "metadata": {},
   "outputs": [
    {
     "data": {
      "text/plain": [
       "19"
      ]
     },
     "execution_count": 4,
     "metadata": {},
     "output_type": "execute_result"
    }
   ],
   "source": [
    "# get the num of columns\n",
    "len(list(df_jan.columns))"
   ]
  },
  {
   "cell_type": "code",
   "execution_count": 5,
   "id": "7f8068c1",
   "metadata": {},
   "outputs": [],
   "source": [
    "# Convert to datetime and compute the difference, then divide by 60 to get the duration in minutes\n",
    "df_jan['duration'] = (pd.to_datetime(df_jan['tpep_dropoff_datetime']) - pd.to_datetime(df_jan['tpep_pickup_datetime'])).dt.total_seconds() / 60"
   ]
  },
  {
   "cell_type": "code",
   "execution_count": 6,
   "id": "2c258795",
   "metadata": {},
   "outputs": [
    {
     "data": {
      "text/plain": [
       "0           8.433333\n",
       "1           6.316667\n",
       "2          12.750000\n",
       "3           9.616667\n",
       "4          10.833333\n",
       "             ...    \n",
       "3066761    13.983333\n",
       "3066762    19.450000\n",
       "3066763    24.516667\n",
       "3066764    13.000000\n",
       "3066765    14.400000\n",
       "Name: duration, Length: 3066766, dtype: float64"
      ]
     },
     "execution_count": 6,
     "metadata": {},
     "output_type": "execute_result"
    }
   ],
   "source": [
    "df_jan['duration']"
   ]
  },
  {
   "cell_type": "code",
   "execution_count": 7,
   "id": "980edc98",
   "metadata": {},
   "outputs": [
    {
     "data": {
      "text/plain": [
       "np.float64(42.59435124195458)"
      ]
     },
     "execution_count": 7,
     "metadata": {},
     "output_type": "execute_result"
    }
   ],
   "source": [
    "# Standard deviation of trip duration in minutes\n",
    "df_jan['duration'].std()"
   ]
  },
  {
   "cell_type": "code",
   "execution_count": 8,
   "id": "79ff2076",
   "metadata": {},
   "outputs": [],
   "source": [
    "# Filter to keep durations between 1 and 60 minutes (inclusive)\n",
    "filtered_df = df_jan[(df_jan['duration'] >= 1) & (df_jan['duration'] <= 60)]"
   ]
  },
  {
   "cell_type": "code",
   "execution_count": 9,
   "id": "0c42e296",
   "metadata": {},
   "outputs": [
    {
     "data": {
      "text/plain": [
       "0.9812202822125979"
      ]
     },
     "execution_count": 9,
     "metadata": {},
     "output_type": "execute_result"
    }
   ],
   "source": [
    "# Fraction of records left after filtering\n",
    "frac_rem = len(filtered_df) / len(df_jan)\n",
    "frac_rem"
   ]
  },
  {
   "cell_type": "code",
   "execution_count": 10,
   "id": "b2cb6b72",
   "metadata": {},
   "outputs": [],
   "source": [
    "from sklearn.feature_extraction import DictVectorizer"
   ]
  },
  {
   "cell_type": "code",
   "execution_count": 11,
   "id": "80b597fd",
   "metadata": {},
   "outputs": [
    {
     "name": "stderr",
     "output_type": "stream",
     "text": [
      "C:\\Users\\gopal\\AppData\\Local\\Temp\\ipykernel_10084\\2597484937.py:2: SettingWithCopyWarning: \n",
      "A value is trying to be set on a copy of a slice from a DataFrame.\n",
      "Try using .loc[row_indexer,col_indexer] = value instead\n",
      "\n",
      "See the caveats in the documentation: https://pandas.pydata.org/pandas-docs/stable/user_guide/indexing.html#returning-a-view-versus-a-copy\n",
      "  filtered_df['PULocationID'] = filtered_df['PULocationID'].astype(str)\n",
      "C:\\Users\\gopal\\AppData\\Local\\Temp\\ipykernel_10084\\2597484937.py:3: SettingWithCopyWarning: \n",
      "A value is trying to be set on a copy of a slice from a DataFrame.\n",
      "Try using .loc[row_indexer,col_indexer] = value instead\n",
      "\n",
      "See the caveats in the documentation: https://pandas.pydata.org/pandas-docs/stable/user_guide/indexing.html#returning-a-view-versus-a-copy\n",
      "  filtered_df['DOLocationID'] = filtered_df['DOLocationID'].astype(str)\n"
     ]
    },
    {
     "name": "stdout",
     "output_type": "stream",
     "text": [
      "Number of features (columns) after one-hot encoding: 515\n"
     ]
    }
   ],
   "source": [
    "# 1. Convert IDs to string to avoid label encoding\n",
    "filtered_df['PULocationID'] = filtered_df['PULocationID'].astype(str)\n",
    "filtered_df['DOLocationID'] = filtered_df['DOLocationID'].astype(str)\n",
    "\n",
    "# 2. Turn the two columns into a list of dictionaries\n",
    "dicts = filtered_df[['PULocationID', 'DOLocationID']].to_dict(orient='records')\n",
    "\n",
    "# 3. Initialize and fit the DictVectorizer\n",
    "dv = DictVectorizer(sparse=False)\n",
    "X = dv.fit_transform(dicts)\n",
    "\n",
    "# 4. Get dimensionality\n",
    "num_features = X.shape[1]\n",
    "\n",
    "print(f\"Number of features (columns) after one-hot encoding: {num_features}\")\n"
   ]
  },
  {
   "cell_type": "code",
   "execution_count": null,
   "id": "f68b077a",
   "metadata": {},
   "outputs": [],
   "source": [
    "from sklearn.linear_model import LinearRegression\n",
    "from sklearn.metrics import mean_squared_error\n",
    "import numpy as np\n",
    "\n",
    "# 1. Define the target variable\n",
    "y = filtered_df['duration'].values\n",
    "\n",
    "# 2. Initialize and train the linear regression model\n",
    "model= LinearRegression()\n",
    "model.fit(X, y)\n",
    "\n",
    "# 3. Predict on the training set\n",
    "y_pred = model.predict(X)\n",
    "\n",
    "# 4. Calculate RMSE on train\n",
    "rmse = np.sqrt(mean_squared_error(y, y_pred))\n",
    "\n",
    "print(f\"RMSE on training data: {rmse:.4f} minutes\")\n"
   ]
  },
  {
   "cell_type": "code",
   "execution_count": null,
   "id": "dcf416cc",
   "metadata": {},
   "outputs": [],
   "source": [
    "# 1. Prepare the validation data\n",
    "df_feb['duration'] = (pd.to_datetime(df_feb['tpep_dropoff_datetime']) - pd.to_datetime(df_feb['tpep_pickup_datetime'])).dt.total_seconds() / 60\n",
    "df_feb['PULocationID'] = df_feb['PULocationID'].astype(str)\n",
    "df_feb['DOLocationID'] = df_feb['DOLocationID'].astype(str)\n",
    "\n",
    "# 2. Convert to dicts\n",
    "val_dicts = df_feb[['PULocationID', 'DOLocationID']].to_dict(orient='records')\n",
    "\n",
    "# 3. Transform using the *same* DictVectorizer fitted on training data\n",
    "X_val = dv.transform(val_dicts)\n",
    "\n",
    "# 4. Extract target variable from validation set\n",
    "y_val = df_feb['duration'].values\n",
    "\n",
    "# 5. Predict and compute RMSE\n",
    "y_pred_val = model.predict(X_val)\n",
    "\n",
    "from sklearn.metrics import mean_squared_error\n",
    "import numpy as np\n",
    "\n",
    "rmse_val = np.sqrt(mean_squared_error(y_val, y_pred_val))\n",
    "\n",
    "print(f\"RMSE on validation data: {rmse_val:.4f} minutes\")\n"
   ]
  }
 ],
 "metadata": {
  "kernelspec": {
   "display_name": ".conda",
   "language": "python",
   "name": "python3"
  },
  "language_info": {
   "codemirror_mode": {
    "name": "ipython",
    "version": 3
   },
   "file_extension": ".py",
   "mimetype": "text/x-python",
   "name": "python",
   "nbconvert_exporter": "python",
   "pygments_lexer": "ipython3",
   "version": "3.11.11"
  }
 },
 "nbformat": 4,
 "nbformat_minor": 5
}
