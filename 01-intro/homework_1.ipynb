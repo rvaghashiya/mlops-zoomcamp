{
 "cells": [
  {
   "cell_type": "code",
   "execution_count": 1,
   "id": "166edb01",
   "metadata": {},
   "outputs": [],
   "source": [
    "# --- Import necessary libraries ---\n",
    "import pandas as pd\n",
    "import numpy as np\n",
    "from sklearn.feature_extraction import DictVectorizer\n",
    "from sklearn.linear_model import LinearRegression\n",
    "from sklearn.metrics import mean_squared_error"
   ]
  },
  {
   "cell_type": "code",
   "execution_count": 2,
   "id": "9cce8464",
   "metadata": {},
   "outputs": [],
   "source": [
    "# --- Configuration ---\n",
    "URL_JAN = 'https://d37ci6vzurychx.cloudfront.net/trip-data/yellow_tripdata_2023-01.parquet'\n",
    "URL_FEB = 'https://d37ci6vzurychx.cloudfront.net/trip-data/yellow_tripdata_2023-02.parquet'\n",
    "LOCATION_FEATURES = ['PULocationID', 'DOLocationID']"
   ]
  },
  {
   "cell_type": "code",
   "execution_count": 3,
   "id": "21822e96",
   "metadata": {},
   "outputs": [],
   "source": [
    "# --- Data Loading and Preprocessing ---\n",
    "def load_and_preprocess_data(url, min_duration=1, max_duration=60):\n",
    "    \"\"\"\n",
    "    Loads taxi trip data from a URL, calculates duration, filters by duration range,\n",
    "    and converts location IDs to string type.\n",
    "\n",
    "    Args:\n",
    "        url (str): URL of the parquet file.\n",
    "        min_duration (int): Minimum trip duration in minutes (inclusive).\n",
    "        max_duration (int): Maximum trip duration in minutes (inclusive).\n",
    "\n",
    "    Returns:\n",
    "        pd.DataFrame: Preprocessed DataFrame.\n",
    "    \"\"\"\n",
    "    print(f\"Loading data from: {url}\")\n",
    "    df = pd.read_parquet(url)\n",
    "\n",
    "    # Calculate trip duration in minutes\n",
    "    df['duration'] = (df['tpep_dropoff_datetime'] - df['tpep_pickup_datetime']).dt.total_seconds() / 60\n",
    "\n",
    "    # Filter data based on duration\n",
    "    df = df[(df['duration'] >= min_duration) & (df['duration'] <= max_duration)]\n",
    "\n",
    "    # Convert location IDs to string type for featureVectorizer\n",
    "    df['PULocationID'] = df['PULocationID'].astype(str)\n",
    "    df['DOLocationID'] = df['DOLocationID'].astype(str)\n",
    "\n",
    "    print(f\"Data shape after preprocessing: {df.shape}\")\n",
    "    return df"
   ]
  },
  {
   "cell_type": "code",
   "execution_count": 4,
   "id": "6fdf323b",
   "metadata": {},
   "outputs": [
    {
     "name": "stdout",
     "output_type": "stream",
     "text": [
      "Loading data from: https://d37ci6vzurychx.cloudfront.net/trip-data/yellow_tripdata_2023-01.parquet\n",
      "Data shape after preprocessing: (3009173, 20)\n",
      "Loading data from: https://d37ci6vzurychx.cloudfront.net/trip-data/yellow_tripdata_2023-02.parquet\n",
      "Data shape after preprocessing: (2855951, 20)\n"
     ]
    }
   ],
   "source": [
    "# Load and preprocess January data\n",
    "df_train = load_and_preprocess_data(URL_JAN)\n",
    "\n",
    "# Load and preprocess February data\n",
    "df_val = load_and_preprocess_data(URL_FEB)"
   ]
  },
  {
   "cell_type": "code",
   "execution_count": 5,
   "id": "83936b71",
   "metadata": {},
   "outputs": [],
   "source": [
    "# --- Feature Engineering ---\n",
    "def create_feature_matrix(df, features):\n",
    "    \"\"\"\n",
    "    Creates a feature matrix from a DataFrame using DictVectorizer.\n",
    "\n",
    "    Args:\n",
    "        df (pd.DataFrame): Input DataFrame.\n",
    "        features (list): List of column names to use as features.\n",
    "\n",
    "    Returns:\n",
    "        tuple: A tuple containing:\n",
    "            - scipy.sparse.csr_matrix: The feature matrix.\n",
    "            - DictVectorizer: The fitted DictVectorizer object.\n",
    "    \"\"\"\n",
    "    print(\"Creating feature matrix...\")\n",
    "    dicts = df[features].to_dict(orient='records')\n",
    "    dv = DictVectorizer()\n",
    "    X = dv.fit_transform(dicts)\n",
    "    print(f\"Feature matrix shape: {X.shape}\")\n",
    "    print(f\"Number of features: {len(dv.feature_names_)}\")\n",
    "    return X, dv"
   ]
  },
  {
   "cell_type": "code",
   "execution_count": 6,
   "id": "db579b13",
   "metadata": {},
   "outputs": [
    {
     "name": "stdout",
     "output_type": "stream",
     "text": [
      "Creating feature matrix...\n",
      "Feature matrix shape: (3009173, 515)\n",
      "Number of features: 515\n",
      "Creating feature matrix for validation data...\n",
      "Validation feature matrix shape: (2855951, 515)\n"
     ]
    }
   ],
   "source": [
    "# Create feature matrix for training data\n",
    "X_train, dv = create_feature_matrix(df_train, LOCATION_FEATURES)\n",
    "\n",
    "# Create feature matrix for validation data using the same DictVectorizer\n",
    "print(\"Creating feature matrix for validation data...\")\n",
    "val_dicts = df_val[LOCATION_FEATURES].to_dict(orient='records')\n",
    "X_val = dv.transform(val_dicts)\n",
    "print(f\"Validation feature matrix shape: {X_val.shape}\")"
   ]
  },
  {
   "cell_type": "code",
   "execution_count": 7,
   "id": "f7e005d6",
   "metadata": {},
   "outputs": [],
   "source": [
    "# --- Model Training ---\n",
    "def train_model(X_train, y_train):\n",
    "    \"\"\"\n",
    "    Trains a Linear Regression model.\n",
    "\n",
    "    Args:\n",
    "        X_train (scipy.sparse.csr_matrix): Training feature matrix.\n",
    "        y_train (np.ndarray): Training target variable.\n",
    "\n",
    "    Returns:\n",
    "        sklearn.linear_model.LinearRegression: The trained model.\n",
    "    \"\"\"\n",
    "    print(\"Training Linear Regression model...\")\n",
    "    model = LinearRegression()\n",
    "    model.fit(X_train, y_train)\n",
    "    print(\"Model training complete.\")\n",
    "    return model"
   ]
  },
  {
   "cell_type": "code",
   "execution_count": 8,
   "id": "09834b45",
   "metadata": {},
   "outputs": [
    {
     "name": "stdout",
     "output_type": "stream",
     "text": [
      "Training Linear Regression model...\n",
      "Model training complete.\n"
     ]
    }
   ],
   "source": [
    "# Prepare target variable for training\n",
    "y_train = df_train['duration'].values\n",
    "\n",
    "# Train the model\n",
    "model = train_model(X_train, y_train)"
   ]
  },
  {
   "cell_type": "code",
   "execution_count": 9,
   "id": "75dd6912",
   "metadata": {},
   "outputs": [],
   "source": [
    "# --- Model Evaluation ---\n",
    "def evaluate_model(model, X, y, data_name):\n",
    "    \"\"\"\n",
    "    Evaluates the model using Root Mean Squared Error (RMSE).\n",
    "\n",
    "    Args:\n",
    "        model (sklearn.linear_model.LinearRegression): The trained model.\n",
    "        X (scipy.sparse.csr_matrix): Feature matrix.\n",
    "        y (np.ndarray): Target variable.\n",
    "        data_name (str): Name of the dataset for reporting (e.g., 'train', 'validation').\n",
    "\n",
    "    Returns:\n",
    "        float: RMSE score.\n",
    "    \"\"\"\n",
    "    print(f\"Evaluating model on {data_name} data...\")\n",
    "    y_pred = model.predict(X)\n",
    "    rmse = np.sqrt(mean_squared_error(y, y_pred))\n",
    "    print(f'RMSE on {data_name}: {rmse:.2f}')\n",
    "    return rmse"
   ]
  },
  {
   "cell_type": "code",
   "execution_count": 10,
   "id": "6273bd12",
   "metadata": {},
   "outputs": [
    {
     "name": "stdout",
     "output_type": "stream",
     "text": [
      "Evaluating model on train data...\n",
      "RMSE on train: 7.65\n",
      "Evaluating model on validation data...\n",
      "RMSE on validation: 7.81\n"
     ]
    }
   ],
   "source": [
    "# Evaluate on training data\n",
    "train_rmse = evaluate_model(model, X_train, y_train, 'train')\n",
    "\n",
    "# Prepare target variable for validation\n",
    "y_val = df_val['duration'].values\n",
    "\n",
    "# Evaluate on validation data\n",
    "val_rmse = evaluate_model(model, X_val, y_val, 'validation')"
   ]
  },
  {
   "cell_type": "code",
   "execution_count": 11,
   "id": "0be49fd4",
   "metadata": {},
   "outputs": [
    {
     "name": "stdout",
     "output_type": "stream",
     "text": [
      "\n",
      "--- Summary ---\n",
      "RMSE on training data: 7.65\n",
      "RMSE on validation data: 7.81\n"
     ]
    }
   ],
   "source": [
    "# --- Summary ---\n",
    "print(\"\\n--- Summary ---\")\n",
    "print(f\"RMSE on training data: {train_rmse:.2f}\")\n",
    "print(f\"RMSE on validation data: {val_rmse:.2f}\")"
   ]
  }
 ],
 "metadata": {
  "kernelspec": {
   "display_name": ".conda",
   "language": "python",
   "name": "python3"
  },
  "language_info": {
   "codemirror_mode": {
    "name": "ipython",
    "version": 3
   },
   "file_extension": ".py",
   "mimetype": "text/x-python",
   "name": "python",
   "nbconvert_exporter": "python",
   "pygments_lexer": "ipython3",
   "version": "3.11.11"
  }
 },
 "nbformat": 4,
 "nbformat_minor": 5
}
